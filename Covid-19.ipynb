{
 "cells": [
  {
   "cell_type": "code",
   "execution_count": 22,
   "metadata": {},
   "outputs": [],
   "source": [
    "import pandas as pd\n",
    "import numpy as np\n",
    "import csv\n",
    "import os\n",
    "import json\n",
    "path =\"metadata.csv\" \n",
    "df = pd.read_csv(path, encoding = 'utf-8')"
   ]
  },
  {
   "cell_type": "code",
   "execution_count": 26,
   "metadata": {},
   "outputs": [],
   "source": [
    "#directories = [\"biorxiv_medrxiv\",\"comm_use_subset\",\"custom_license\",\"noncomm_use_subset\"]\n",
    "directories = [\"biorxiv_medrxiv\"]\n",
    "json_array = []\n",
    "for d in directories:\n",
    "    for file in os.listdir(f\"{d}/{d}\"):\n",
    "        #print(file)\n",
    "        file_path = f\"{d}/{d}/{file}\"\n",
    "        j = json.load(open(file_path, \"rb\"))\n",
    "        json_array.append(j)\n",
    "#finds json files and saves to an array"
   ]
  },
  {
   "cell_type": "code",
   "execution_count": 27,
   "metadata": {},
   "outputs": [
    {
     "data": {
      "text/plain": [
       "885"
      ]
     },
     "execution_count": 27,
     "metadata": {},
     "output_type": "execute_result"
    }
   ],
   "source": [
    "len(json_array)"
   ]
  },
  {
   "cell_type": "code",
   "execution_count": 28,
   "metadata": {},
   "outputs": [
    {
     "name": "stdout",
     "output_type": "stream",
     "text": [
      "paper_id\n",
      "metadata\n",
      "abstract\n",
      "body_text\n",
      "bib_entries\n",
      "ref_entries\n",
      "back_matter\n"
     ]
    }
   ],
   "source": [
    "#search_keys \n",
    "for key in json_array[0]:\n",
    "    print(key)"
   ]
  },
  {
   "cell_type": "code",
   "execution_count": 35,
   "metadata": {},
   "outputs": [],
   "source": [
    "raw_abstract = (json_array[0]['abstract'])\n",
    "raw_metadata = (json_array[0]['metadata'])\n",
    "raw_bodytext = (json_array[0]['body_text'])\n",
    "raw_bib_entries = (json_array[0]['bib_entries'])\n",
    "raw_ref = (json_array[0]['ref_entries'])\n",
    "raw_back_mater = (json_array[0]['back_matter'])"
   ]
  },
  {
   "cell_type": "code",
   "execution_count": 41,
   "metadata": {},
   "outputs": [],
   "source": [
    "##------------------------------------------------------------##\n",
    "raw_bodytext\n",
    "body_full_text = []\n",
    "for key in raw_bodytext:\n",
    "    body_full_text.append(key['text'] + '\\n\\n')\n",
    "    #print(key['text'])"
   ]
  },
  {
   "cell_type": "code",
   "execution_count": 43,
   "metadata": {},
   "outputs": [],
   "source": [
    "#body_full_text"
   ]
  },
  {
   "cell_type": "code",
   "execution_count": null,
   "metadata": {},
   "outputs": [],
   "source": [
    "#needs more structuring.\n",
    "#Tasks as per Kaggle:- what is known about transmission/incubation and environmental stability?\n",
    "###Points to consider::--- Extract meaning(NLP?) Terms displayed in Tasks may be called something else in the dataset/research papers..."
   ]
  }
 ],
 "metadata": {
  "kernelspec": {
   "display_name": "Python 3",
   "language": "python",
   "name": "python3"
  },
  "language_info": {
   "codemirror_mode": {
    "name": "ipython",
    "version": 3
   },
   "file_extension": ".py",
   "mimetype": "text/x-python",
   "name": "python",
   "nbconvert_exporter": "python",
   "pygments_lexer": "ipython3",
   "version": "3.7.4"
  }
 },
 "nbformat": 4,
 "nbformat_minor": 2
}

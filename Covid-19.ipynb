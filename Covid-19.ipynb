{
 "cells": [
  {
   "cell_type": "code",
   "execution_count": 1,
   "metadata": {},
   "outputs": [],
   "source": [
    "import pandas as pd\n",
    "import numpy as np\n",
    "import csv\n",
    "import os\n",
    "import json\n",
    "import nltk\n",
    "from nltk.corpus import wordnet\n",
    "from nltk.stem import WordNetLemmatizer\n",
    "from nltk.tokenize import PunktSentenceTokenizer #ai that can be used to train on parts of speech\n",
    "from nltk.corpus import stopwords\n",
    "from nltk.stem import PorterStemmer\n",
    "from nltk.tokenize import sent_tokenize, word_tokenize\n",
    "path =\"metadata.csv\" \n",
    "df = pd.read_csv(path, encoding = 'utf-8')"
   ]
  },
  {
   "cell_type": "code",
   "execution_count": 2,
   "metadata": {},
   "outputs": [],
   "source": [
    "#directories = [\"biorxiv_medrxiv\",\"comm_use_subset\",\"custom_license\",\"noncomm_use_subset\"]\n",
    "directories = [\"biorxiv_medrxiv\"]\n",
    "json_array = []\n",
    "for d in directories:\n",
    "    for file in os.listdir(f\"{d}/{d}\"):\n",
    "        #print(file)\n",
    "        file_path = f\"{d}/{d}/{file}\"\n",
    "        j = json.load(open(file_path, \"rb\"))\n",
    "        json_array.append(j)\n",
    "#finds json files and saves to an array"
   ]
  },
  {
   "cell_type": "code",
   "execution_count": 3,
   "metadata": {},
   "outputs": [
    {
     "data": {
      "text/plain": [
       "885"
      ]
     },
     "execution_count": 3,
     "metadata": {},
     "output_type": "execute_result"
    }
   ],
   "source": [
    "len(json_array)"
   ]
  },
  {
   "cell_type": "code",
   "execution_count": 6,
   "metadata": {},
   "outputs": [
    {
     "name": "stdout",
     "output_type": "stream",
     "text": [
      "paper_id\n",
      "metadata\n",
      "abstract\n",
      "body_text\n",
      "bib_entries\n",
      "ref_entries\n",
      "back_matter\n"
     ]
    }
   ],
   "source": [
    "#search_keys \n",
    "for key in json_array[0]:\n",
    "    print(key)"
   ]
  },
  {
   "cell_type": "code",
   "execution_count": 7,
   "metadata": {},
   "outputs": [],
   "source": [
    "#start with 0 out of 885 lol I need to automate this but good for first test run\n",
    "raw_abstract = (json_array[0]['abstract'])\n",
    "raw_metadata = (json_array[0]['metadata'])\n",
    "raw_bodytext = (json_array[0]['body_text'])\n",
    "raw_bib_entries = (json_array[0]['bib_entries'])\n",
    "raw_ref = (json_array[0]['ref_entries'])\n",
    "raw_back_mater = (json_array[0]['back_matter'])"
   ]
  },
  {
   "cell_type": "code",
   "execution_count": 8,
   "metadata": {},
   "outputs": [],
   "source": [
    "##------------------------------------------------------------##\n",
    "raw_bodytext\n",
    "body_full_text = []\n",
    "for key in raw_bodytext:\n",
    "    body_full_text.append(key['text'] + '\\n\\n')\n",
    "    #print(key['text'])"
   ]
  },
  {
   "cell_type": "code",
   "execution_count": 11,
   "metadata": {},
   "outputs": [
    {
     "data": {
      "text/plain": [
       "20"
      ]
     },
     "execution_count": 11,
     "metadata": {},
     "output_type": "execute_result"
    }
   ],
   "source": [
    "len(body_full_text)#there are 20 paragraphs here"
   ]
  },
  {
   "cell_type": "code",
   "execution_count": 37,
   "metadata": {},
   "outputs": [],
   "source": [
    "#needs more structuring.\n",
    "#Tasks as per Kaggle:- what is known about transmission/incubation and environmental stability?\n",
    "###Points to consider::--- Extract meaning(NLP?) Terms displayed in Tasks may be called something else in the dataset/research papers...(WordNet)\n",
    "#body_full_text"
   ]
  },
  {
   "cell_type": "code",
   "execution_count": 15,
   "metadata": {},
   "outputs": [],
   "source": [
    "#Range of incubation periods for the disease in humans (and how this varies across age and health status)\n",
    "#and how long individuals are contagious, even after recovery.\n",
    "#body_full_text[2]\n",
    "#tokenize sentences"
   ]
  },
  {
   "cell_type": "code",
   "execution_count": 39,
   "metadata": {},
   "outputs": [
    {
     "data": {
      "text/plain": [
       "'The P2 64 and P3 regions encode the non-structural proteins 2B and 2C and 3A, 3B (1-3) (VPg), 3C pro and 4 structural protein-coding region is replaced by reporter genes, allow the study of genome 68 replication without the requirement for high containment (9, 10) ( figure 1A ).'"
      ]
     },
     "execution_count": 39,
     "metadata": {},
     "output_type": "execute_result"
    }
   ],
   "source": [
    "sentences = sent_tokenize(body_full_text[0])\n",
    "sentences[1]"
   ]
  },
  {
   "cell_type": "code",
   "execution_count": 36,
   "metadata": {},
   "outputs": [],
   "source": [
    "i = 0\n",
    "# we will first check similarity scores before analysing data in each paragraph\n",
    "#this section just prepares the data so that it can be analysed\n",
    "paragraph_sent = []    #physical amount of sentences per paragraph accessed in the format[p][s]\n",
    "#whereby P is paragraph number and S is sentense\n",
    "sentense_limiters = [] #numerical amount of sentences per paragraph\n",
    "while i < 20:\n",
    "    sentences = sent_tokenize(body_full_text[i])\n",
    "    #print(len(sentences))\n",
    "    sentense_limiters.append(len(sentences))\n",
    "    paragraph_sent.append(sentences)\n",
    "    i+=1"
   ]
  },
  {
   "cell_type": "code",
   "execution_count": 34,
   "metadata": {},
   "outputs": [],
   "source": [
    "#paragraph_sent[0][1]"
   ]
  },
  {
   "cell_type": "code",
   "execution_count": 23,
   "metadata": {},
   "outputs": [],
   "source": [
    "#okay...how am i gonna do this...first, search through all data and find paragraph which has the highest similarity to \n",
    "#the word incubation and age"
   ]
  },
  {
   "cell_type": "code",
   "execution_count": null,
   "metadata": {},
   "outputs": [],
   "source": [
    "w1 = paragraph_sent[0][1]"
   ]
  },
  {
   "cell_type": "code",
   "execution_count": null,
   "metadata": {},
   "outputs": [],
   "source": []
  },
  {
   "cell_type": "code",
   "execution_count": 14,
   "metadata": {},
   "outputs": [],
   "source": [
    "# ***THOUGH PROCESS***\n",
    "#do i need sentiment analsis? no\n",
    "#keywords such as:\n",
    "#incubation periods, humans, age, health, contagious, recovery(compute similarity scores for each paragraph first)\n",
    "#before analysing the paragraph"
   ]
  },
  {
   "cell_type": "code",
   "execution_count": null,
   "metadata": {},
   "outputs": [],
   "source": []
  }
 ],
 "metadata": {
  "kernelspec": {
   "display_name": "Python 3",
   "language": "python",
   "name": "python3"
  },
  "language_info": {
   "codemirror_mode": {
    "name": "ipython",
    "version": 3
   },
   "file_extension": ".py",
   "mimetype": "text/x-python",
   "name": "python",
   "nbconvert_exporter": "python",
   "pygments_lexer": "ipython3",
   "version": "3.7.4"
  }
 },
 "nbformat": 4,
 "nbformat_minor": 2
}
